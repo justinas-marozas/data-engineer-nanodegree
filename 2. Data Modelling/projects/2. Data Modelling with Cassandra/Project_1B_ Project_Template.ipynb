{
 "cells": [
  {
   "cell_type": "markdown",
   "metadata": {},
   "source": [
    "# Part I. ETL Pipeline for Pre-Processing the Files"
   ]
  },
  {
   "cell_type": "markdown",
   "metadata": {},
   "source": [
    "## PLEASE RUN THE FOLLOWING CODE FOR PRE-PROCESSING THE FILES"
   ]
  },
  {
   "cell_type": "markdown",
   "metadata": {},
   "source": [
    "#### Import Python packages "
   ]
  },
  {
   "cell_type": "code",
   "execution_count": 1,
   "metadata": {},
   "outputs": [],
   "source": [
    "# Import Python packages \n",
    "import pandas as pd\n",
    "import cassandra\n",
    "import re\n",
    "import os\n",
    "import glob\n",
    "import numpy as np\n",
    "import json\n",
    "import csv"
   ]
  },
  {
   "cell_type": "markdown",
   "metadata": {},
   "source": [
    "#### Creating list of filepaths to process original event csv data files"
   ]
  },
  {
   "cell_type": "code",
   "execution_count": 2,
   "metadata": {},
   "outputs": [
    {
     "name": "stdout",
     "output_type": "stream",
     "text": [
      "/Users/justinasmarozas/OneDrive/Udacity/Data Engineer NanoDegree/github/data-engineer-nanodegree/2. Data Modelling/projects/2. Data Modelling with Cassandra\n"
     ]
    }
   ],
   "source": [
    "# checking your current working directory\n",
    "print(os.getcwd())\n",
    "\n",
    "# Get your current folder and subfolder event data\n",
    "filepath = os.getcwd() + '/event_data'\n",
    "\n",
    "# Create a for loop to create a list of files and collect each filepath\n",
    "for root, dirs, files in os.walk(filepath):\n",
    "    # join the file path and roots with the subdirectories using glob\n",
    "    file_path_list = glob.glob(os.path.join(root,'*'))"
   ]
  },
  {
   "cell_type": "markdown",
   "metadata": {},
   "source": [
    "#### Processing the files to create the data file csv that will be used for Apache Casssandra tables"
   ]
  },
  {
   "cell_type": "code",
   "execution_count": 3,
   "metadata": {},
   "outputs": [],
   "source": [
    "# initiating an empty list of rows that will be generated from each file\n",
    "full_data_rows_list = [] \n",
    "    \n",
    "# for every filepath in the file path list \n",
    "for f in file_path_list:\n",
    "    # reading csv file \n",
    "    with open(f, 'r', encoding = 'utf8', newline='') as csvfile: \n",
    "        # creating a csv reader object \n",
    "        csvreader = csv.reader(csvfile) \n",
    "        next(csvreader)\n",
    "        \n",
    "        # extracting each data row one by one and append it        \n",
    "        for line in csvreader:\n",
    "            #print(line)\n",
    "            full_data_rows_list.append(line) \n",
    "\n",
    "# creating a smaller event data csv file called event_datafile_full csv that will be used to insert data into the\n",
    "# Apache Cassandra tables\n",
    "csv.register_dialect('myDialect', quoting=csv.QUOTE_ALL, skipinitialspace=True)\n",
    "\n",
    "with open('event_datafile_new.csv', 'w', encoding = 'utf8', newline='') as f:\n",
    "    writer = csv.writer(f, dialect='myDialect')\n",
    "    writer.writerow([\n",
    "        'artist',\n",
    "        'firstName',\n",
    "        'gender',\n",
    "        'itemInSession',\n",
    "        'lastName',\n",
    "        'length',\n",
    "        'level',\n",
    "        'location',\n",
    "        'sessionId',\n",
    "        'song',\n",
    "        'userId'\n",
    "    ])\n",
    "    for row in full_data_rows_list:\n",
    "        if (row[0] == ''):\n",
    "            continue\n",
    "        writer.writerow((\n",
    "            row[0], \n",
    "            row[2], \n",
    "            row[3], \n",
    "            row[4], \n",
    "            row[5], \n",
    "            row[6], \n",
    "            row[7], \n",
    "            row[8], \n",
    "            row[12], \n",
    "            row[13], \n",
    "            row[16]\n",
    "        ))"
   ]
  },
  {
   "cell_type": "code",
   "execution_count": 4,
   "metadata": {},
   "outputs": [
    {
     "name": "stdout",
     "output_type": "stream",
     "text": [
      "6821\n"
     ]
    }
   ],
   "source": [
    "# check the number of rows in your csv file\n",
    "with open('event_datafile_new.csv', 'r', encoding = 'utf8') as f:\n",
    "    print(sum(1 for line in f))"
   ]
  },
  {
   "cell_type": "markdown",
   "metadata": {},
   "source": [
    "# Part II. Complete the Apache Cassandra coding portion of your project. \n",
    "\n",
    "## Now you are ready to work with the CSV file titled <font color=red>event_datafile_new.csv</font>, located within the Workspace directory.  The event_datafile_new.csv contains the following columns: \n",
    "- artist \n",
    "- firstName of user\n",
    "- gender of user\n",
    "- item number in session\n",
    "- last name of user\n",
    "- length of the song\n",
    "- level (paid or free song)\n",
    "- location of the user\n",
    "- sessionId\n",
    "- song title\n",
    "- userId\n",
    "\n",
    "The image below is a screenshot of what the denormalized data should appear like in the <font color=red>**event_datafile_new.csv**</font> after the code above is run:<br>\n",
    "\n",
    "<img src=\"images/image_event_datafile_new.jpg\">"
   ]
  },
  {
   "cell_type": "markdown",
   "metadata": {},
   "source": [
    "## Begin writing your Apache Cassandra code in the cells below"
   ]
  },
  {
   "cell_type": "markdown",
   "metadata": {},
   "source": [
    "#### Creating a Cluster"
   ]
  },
  {
   "cell_type": "code",
   "execution_count": 5,
   "metadata": {},
   "outputs": [],
   "source": [
    "# This should make a connection to a Cassandra instance your local machine \n",
    "# (127.0.0.1)\n",
    "\n",
    "from cassandra.cluster import Cluster\n",
    "\n",
    "try: \n",
    "    cluster = Cluster(['127.0.0.1'])\n",
    "    session = cluster.connect()\n",
    "except Exception as e:\n",
    "    print(e)"
   ]
  },
  {
   "cell_type": "markdown",
   "metadata": {},
   "source": [
    "#### Create Keyspace"
   ]
  },
  {
   "cell_type": "code",
   "execution_count": 6,
   "metadata": {},
   "outputs": [],
   "source": [
    "command = \"\"\"\n",
    "create keyspace if not exists udacity\n",
    "with replication = {\n",
    "    'class': 'SimpleStrategy',\n",
    "    'replication_factor' : 1\n",
    "};\n",
    "\"\"\"\n",
    "try:\n",
    "    session.execute(command)\n",
    "except Exception as e:\n",
    "    print(e)"
   ]
  },
  {
   "cell_type": "markdown",
   "metadata": {},
   "source": [
    "#### Set Keyspace"
   ]
  },
  {
   "cell_type": "code",
   "execution_count": 7,
   "metadata": {},
   "outputs": [],
   "source": [
    "session.set_keyspace('udacity')"
   ]
  },
  {
   "cell_type": "markdown",
   "metadata": {},
   "source": [
    "### Now we need to create tables to run the following queries. Remember, with Apache Cassandra you model the database tables on the queries you want to run."
   ]
  },
  {
   "cell_type": "markdown",
   "metadata": {},
   "source": [
    "## Create queries to ask the following three questions of the data\n",
    "\n",
    "### 1. Give me the artist, song title and song's length in the music app history that was heard during  sessionId = 338, and itemInSession  = 4\n",
    "\n",
    "\n",
    "### 2. Give me only the following: name of artist, song (sorted by itemInSession) and user (first and last name) for userid = 10, sessionid = 182\n",
    "    \n",
    "\n",
    "### 3. Give me every user name (first and last) in my music app history who listened to the song 'All Hands Against His Own'\n",
    "\n",
    "\n"
   ]
  },
  {
   "cell_type": "code",
   "execution_count": 8,
   "metadata": {},
   "outputs": [],
   "source": [
    "# Query 1:  Give me the artist, song title and song's length in the music app history that was heard during\n",
    "# sessionId = 338, and itemInSession = 4\n",
    "\n",
    "query_1 = \"\"\"\n",
    "select\n",
    "    artist,\n",
    "    song,\n",
    "    length,\n",
    "    userId,\n",
    "    sessionId,\n",
    "    itemInSession\n",
    "from UserSessionItems\n",
    "where userId = 50\n",
    "and sessionId = 338\n",
    "and itemInSession = 4;\n",
    "\"\"\""
   ]
  },
  {
   "cell_type": "code",
   "execution_count": 9,
   "metadata": {},
   "outputs": [],
   "source": [
    "# Query 2: Give me only the following: name of artist, song (sorted by itemInSession) and user (first and last name)\n",
    "# for userid = 10, sessionid = 182\n",
    "\n",
    "query_2 = \"\"\"\n",
    "select\n",
    "    artist,\n",
    "    song,\n",
    "    firstName,\n",
    "    lastName\n",
    "from UserSessionItems\n",
    "where userId = 10\n",
    "and sessionId = 182\n",
    "order by\n",
    "    sessionId,\n",
    "    itemInSession;\n",
    "\"\"\""
   ]
  },
  {
   "cell_type": "code",
   "execution_count": 10,
   "metadata": {},
   "outputs": [],
   "source": [
    "# Query 3: Give me every user name (first and last) in my music app history who listened \n",
    "# to the song 'All Hands Against His Own'\n",
    "\n",
    "query_3 = \"\"\"\n",
    "select\n",
    "    firstName,\n",
    "    lastName\n",
    "from SongListens\n",
    "where song = 'All Hands Against His Own';\n",
    "\"\"\"                 "
   ]
  },
  {
   "cell_type": "markdown",
   "metadata": {},
   "source": [
    "### Create tables\n",
    "\n",
    "Each row can be identified by a combination of `sessionId` and `itemInSession` columns. These columns will be required in all primary keys to avoid data loss. Other columns used in primary keys are there to enable specific queries.\n",
    "\n",
    "Queries 1 and 2 are similar in nature. I'll use a single table for them. I acknowledge that query 1 would be slightly simpler if separate tables were used but at this time I'll be using one.\n",
    "\n",
    "Query 3 will need a separate table."
   ]
  },
  {
   "cell_type": "code",
   "execution_count": 11,
   "metadata": {},
   "outputs": [],
   "source": [
    "user_session_items_ddl = \"\"\"\n",
    "create table if not exists UserSessionItems\n",
    "(\n",
    "    userId int,\n",
    "    sessionId int,\n",
    "    itemInSession int,\n",
    "    artist text,\n",
    "    song text,\n",
    "    length float,\n",
    "    firstName text,\n",
    "    lastName text,\n",
    "    primary key (userId, sessionId, itemInSession)\n",
    ");\n",
    "\"\"\"\n",
    "\n",
    "try:\n",
    "    session.execute(user_session_items_ddl)\n",
    "except Exception as e:\n",
    "    print(e)"
   ]
  },
  {
   "cell_type": "code",
   "execution_count": 12,
   "metadata": {},
   "outputs": [],
   "source": [
    "song_listens_ddl = \"\"\"\n",
    "create table if not exists SongListens\n",
    "(\n",
    "    song text,\n",
    "    sessionId int,\n",
    "    itemInSession int,\n",
    "    firstName text,\n",
    "    lastName text,\n",
    "    primary key (song, sessionId, itemInSession)\n",
    ");\n",
    "\"\"\"\n",
    "\n",
    "try:\n",
    "    session.execute(song_listens_ddl)\n",
    "except Exception as e:\n",
    "    print(e)"
   ]
  },
  {
   "cell_type": "markdown",
   "metadata": {},
   "source": [
    "### Fill tables with data"
   ]
  },
  {
   "cell_type": "code",
   "execution_count": 13,
   "metadata": {},
   "outputs": [],
   "source": [
    "def insert_user_session_item(line):\n",
    "    command = \"\"\"\n",
    "insert into UserSessionItems (\n",
    "    userId,\n",
    "    sessionId,\n",
    "    itemInSession,\n",
    "    artist,\n",
    "    song,\n",
    "    length,\n",
    "    firstName,\n",
    "    lastName\n",
    ")\n",
    "values (%s, %s, %s, %s, %s, %s, %s, %s);\n",
    "    \"\"\"\n",
    "    session.execute(\n",
    "        command, (\n",
    "            int(line[10]), \n",
    "            int(line[8]), \n",
    "            int(line[3]), \n",
    "            line[0], \n",
    "            line[9], \n",
    "            float(line[5]), \n",
    "            line[1], \n",
    "            line[4],\n",
    "        )\n",
    "    )"
   ]
  },
  {
   "cell_type": "code",
   "execution_count": 14,
   "metadata": {},
   "outputs": [],
   "source": [
    "def insert_song_listen(line):\n",
    "    command = \"\"\"\n",
    "insert into SongListens (\n",
    "    song,\n",
    "    sessionId,\n",
    "    itemInSession,\n",
    "    firstName,\n",
    "    lastName\n",
    ")\n",
    "values (%s, %s, %s, %s, %s);\n",
    "    \"\"\"\n",
    "    session.execute(\n",
    "        command, (\n",
    "            line[9], \n",
    "            int(line[8]), \n",
    "            int(line[3]), \n",
    "            line[1], \n",
    "            line[4],\n",
    "        )\n",
    "    )"
   ]
  },
  {
   "cell_type": "code",
   "execution_count": 15,
   "metadata": {},
   "outputs": [],
   "source": [
    "# We have provided part of the code to set up the CSV file. Please complete the Apache Cassandra code below.\n",
    "file = 'event_datafile_new.csv'\n",
    "\n",
    "with open(file, encoding = 'utf8') as f:\n",
    "    csvreader = csv.reader(f)\n",
    "    next(csvreader) # skip header\n",
    "    for line in csvreader:\n",
    "        insert_user_session_item(line)\n",
    "        insert_song_listen(line)"
   ]
  },
  {
   "cell_type": "markdown",
   "metadata": {},
   "source": [
    "### Run queries to verify that the data have been inserted into each table"
   ]
  },
  {
   "cell_type": "code",
   "execution_count": 16,
   "metadata": {},
   "outputs": [
    {
     "name": "stdout",
     "output_type": "stream",
     "text": [
      "Row count: 1.\n",
      "Columns: ['artist', 'song', 'length', 'userid', 'sessionid', 'iteminsession'].\n",
      "(50, 338, 4, 'Faithless', 'Music Matters (Mark Knight Dub)', 495.30731201171875)\n"
     ]
    }
   ],
   "source": [
    "try:\n",
    "    rows = session.execute(query_1)\n",
    "    print(f'Row count: {len(rows.current_rows)}.')\n",
    "    print(f'Columns: {rows.column_names}.')\n",
    "except Exception as e:\n",
    "    print(e)\n",
    "\n",
    "for row in rows:\n",
    "    print((row.userid, row.sessionid, row.iteminsession, row.artist, row.song, row.length))"
   ]
  },
  {
   "cell_type": "code",
   "execution_count": 17,
   "metadata": {},
   "outputs": [
    {
     "name": "stdout",
     "output_type": "stream",
     "text": [
      "Row count: 4.\n",
      "Columns: ['artist', 'song', 'firstname', 'lastname'].\n",
      "('Down To The Bone', \"Keep On Keepin' On\", 'Sylvie', 'Cruz')\n",
      "('Three Drives', 'Greece 2000', 'Sylvie', 'Cruz')\n",
      "('Sebastien Tellier', 'Kilometer', 'Sylvie', 'Cruz')\n",
      "('Lonnie Gordon', 'Catch You Baby (Steve Pitron & Max Sanna Radio Edit)', 'Sylvie', 'Cruz')\n"
     ]
    }
   ],
   "source": [
    "try:\n",
    "    rows = session.execute(query_2)\n",
    "    print(f'Row count: {len(rows.current_rows)}.')\n",
    "    print(f'Columns: {rows.column_names}.')\n",
    "except Exception as e:\n",
    "    print(e)\n",
    "\n",
    "for row in rows:\n",
    "    print((row.artist, row.song, row.firstname, row.lastname))"
   ]
  },
  {
   "cell_type": "code",
   "execution_count": 18,
   "metadata": {},
   "outputs": [
    {
     "name": "stdout",
     "output_type": "stream",
     "text": [
      "Row count: 3.\n",
      "Columns: ['firstname', 'lastname'].\n",
      "('Sara', 'Johnson')\n",
      "('Jacqueline', 'Lynch')\n",
      "('Tegan', 'Levine')\n"
     ]
    }
   ],
   "source": [
    "try:\n",
    "    rows = session.execute(query_3)\n",
    "    print(f'Row count: {len(rows.current_rows)}.')\n",
    "    print(f'Columns: {rows.column_names}.')\n",
    "except Exception as e:\n",
    "    print(e)\n",
    "\n",
    "for row in rows:\n",
    "    print((row.firstname, row.lastname))"
   ]
  },
  {
   "cell_type": "markdown",
   "metadata": {},
   "source": [
    "### Drop the tables before closing out the sessions"
   ]
  },
  {
   "cell_type": "code",
   "execution_count": 19,
   "metadata": {},
   "outputs": [],
   "source": [
    "commands = [\n",
    "    \"drop table if exists UserSessionItems;\",\n",
    "    \"drop table if exists SongListens;\"\n",
    "]\n",
    "\n",
    "try:\n",
    "    for command in commands:\n",
    "        session.execute(command)\n",
    "except Exception as e:\n",
    "    print(e)"
   ]
  },
  {
   "cell_type": "markdown",
   "metadata": {},
   "source": [
    "### Close the session and cluster connection"
   ]
  },
  {
   "cell_type": "code",
   "execution_count": 20,
   "metadata": {},
   "outputs": [],
   "source": [
    "session.shutdown()\n",
    "cluster.shutdown()"
   ]
  },
  {
   "cell_type": "code",
   "execution_count": null,
   "metadata": {},
   "outputs": [],
   "source": []
  }
 ],
 "metadata": {
  "kernelspec": {
   "display_name": "Python 3",
   "language": "python",
   "name": "python3"
  },
  "language_info": {
   "codemirror_mode": {
    "name": "ipython",
    "version": 3
   },
   "file_extension": ".py",
   "mimetype": "text/x-python",
   "name": "python",
   "nbconvert_exporter": "python",
   "pygments_lexer": "ipython3",
   "version": "3.6.3"
  }
 },
 "nbformat": 4,
 "nbformat_minor": 4
}
